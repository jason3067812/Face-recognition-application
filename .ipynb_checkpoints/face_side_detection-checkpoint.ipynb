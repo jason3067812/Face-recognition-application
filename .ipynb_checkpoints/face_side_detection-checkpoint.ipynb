{
 "cells": [
  {
   "cell_type": "code",
   "execution_count": null,
   "id": "3f9608c7",
   "metadata": {},
   "outputs": [],
   "source": [
    "import cv2\n",
    "import numpy as np\n",
    "from matplotlib import pyplot as plt\n",
    "from models.detector import face_detector\n",
    "from models.detector.iris_detector import IrisDetector\n",
    "import sys\n",
    "import warnings\n",
    "warnings.filterwarnings(\"ignore\")"
   ]
  },
  {
   "cell_type": "code",
   "execution_count": null,
   "id": "184205ff",
   "metadata": {},
   "outputs": [],
   "source": [
    "fd = face_detector.FaceAlignmentDetector(\n",
    "    lmd_weights_path=\"./models/detector/FAN/2DFAN-1_keras.h5\",\n",
    "     fd_type=\"s3fd\"\n",
    "    # 2DFAN-4_keras.h5, 2DFAN-1_keras.h5\n",
    ")"
   ]
  },
  {
   "cell_type": "code",
   "execution_count": null,
   "id": "d42c5b07",
   "metadata": {},
   "outputs": [],
   "source": [
    "def resize_image(im, max_size=768):\n",
    "    if np.max(im.shape) > max_size:\n",
    "        ratio = max_size / np.max(im.shape)\n",
    "        print(f\"Resize image to ({str(int(im.shape[1]*ratio))}, {str(int(im.shape[0]*ratio))}).\")\n",
    "        return cv2.resize(im, (0,0), fx=ratio, fy=ratio)\n",
    "    return im"
   ]
  },
  {
   "cell_type": "code",
   "execution_count": null,
   "id": "0aaf55f4",
   "metadata": {},
   "outputs": [],
   "source": [
    "# Test images are obtained on https://www.pexels.com/\n",
    "im = cv2.imread(r\"C:\\Users\\jason\\Facial-Recognition-FaceNet-master\\database\\id\\eric.jpg\")[..., ::-1]\n",
    "im = resize_image(im) # Resize image to prevent GPU OOM.\n",
    "bboxes, landmarks = fd.detect_face(im, with_landmarks=True)"
   ]
  },
  {
   "cell_type": "code",
   "execution_count": null,
   "id": "908ec436",
   "metadata": {},
   "outputs": [],
   "source": [
    "import math\n",
    "def cal_two_points_distance(p1, p2):\n",
    "    return math.sqrt(math.pow((p2[0] - p1[0]), 2) + math.pow((p2[1] - p1[1]), 2))"
   ]
  },
  {
   "cell_type": "code",
   "execution_count": null,
   "id": "b0b34063",
   "metadata": {},
   "outputs": [],
   "source": [
    "webcam = cv2.VideoCapture(0)\n",
    "if not webcam.isOpened():\n",
    "    sys.exit(\"Could not open webcam, please open the camera!\")\n",
    "count = 0\n",
    "while True:\n",
    "    count= count+1\n",
    "    # read frame from webcam \n",
    "    status, frame = webcam.read()     \n",
    "    frame_size = frame.shape\n",
    "    face, landmarks = fd.detect_face(frame, with_landmarks=True)\n",
    "    number = len(face)\n",
    "    \n",
    "    if number!=0:\n",
    "        \n",
    "        print(f\"detect {number} face(s)!\")\n",
    "        print(face)\n",
    "        print(\" \")\n",
    "        print(\"landmarks:\",landmarks)\n",
    "        \n",
    "       \n",
    "        #計算距離\n",
    "        x1,y1 = landmarks[0][2]\n",
    "        x2,y2 = landmarks[0][30]\n",
    "        x3,y3 = landmarks[0][14]\n",
    "\n",
    "        left_dist = round(cal_two_points_distance((y1,x1),(y2,x2)), 2)\n",
    "        right_dist = round(cal_two_points_distance((y2,x2),(y3,x3)), 2)        \n",
    " \n",
    "        ratio = left_dist/right_dist\n",
    "\n",
    "\n",
    "        if ratio>2:\n",
    "            status = \"left\"\n",
    "        elif ratio<0.5:\n",
    "            status = \"right\"\n",
    "        else:\n",
    "            status = \"front\"\n",
    " \n",
    "        if y2>=y3 or y2<=y1:\n",
    "            cv2.putText(frame, f\"face angle too large!!\", (10, 90), cv2.FONT_HERSHEY_DUPLEX, 0.7, (0, 255, 255), 1)\n",
    "   \n",
    "        #畫出點\n",
    "        for i in range(number):\n",
    "            \n",
    "            #處理臉部 bbox\n",
    "            x0, y0, x1, y1, score = face[i] \n",
    "            x0, y0, x1, y1 = map(int, [x0, y0, x1, y1])\n",
    "            print(x0,y0,x1,y1)\n",
    "            cv2.rectangle(frame, (y0, x0), (y1, x1), (0, 255, 0), 2)\n",
    "                \n",
    "            for j in range(len(landmarks[i])): \n",
    "                \n",
    "\n",
    "                #處理臉部 landmarks\n",
    "                x, y = landmarks[i][j]\n",
    "                \n",
    "                if j==14 or j==2:\n",
    "                    \n",
    "                    cv2.circle(frame, (int(y), int(x)), 3, (0,0,255), -1)\n",
    "                elif j==30:\n",
    "                    \n",
    "                    cv2.circle(frame, (int(y), int(x)), 3, (255,0,0), -1)\n",
    "                    \n",
    "                else:\n",
    "                    cv2.circle(frame, (int(y), int(x)), 3, (0,255,0), -1)\n",
    "                    \n",
    "            cv2.putText(frame, f\"left_dist:{left_dist}, right_dist:{right_dist}\", (10, 30), cv2.FONT_HERSHEY_DUPLEX, 0.7, (0, 255, 255), 1)\n",
    "            cv2.putText(frame, f\"status:{status}\", (10, 50), cv2.FONT_HERSHEY_DUPLEX, 0.7, (0, 255, 255), 1)\n",
    "            cv2.putText(frame, f\"ratio:{ratio}\", (10, 70), cv2.FONT_HERSHEY_DUPLEX, 0.7, (0, 255, 255), 1)\n",
    "            \n",
    "    else:\n",
    "        \n",
    "        print(\"do not detect face(s))!\")\n",
    "\n",
    "    cv2.namedWindow(\"demo\", cv2.WINDOW_NORMAL)\n",
    "    cv2.imshow(\"demo\", frame)\n",
    "\n",
    "    # press \"Q\" to stop\n",
    "    if cv2.waitKey(1) & 0xFF == ord('q'):\n",
    "        break\n",
    "\n",
    "# release resources\n",
    "webcam.release()\n",
    "cv2.destroyAllWindows()    "
   ]
  },
  {
   "cell_type": "code",
   "execution_count": null,
   "id": "0db9e45c",
   "metadata": {},
   "outputs": [],
   "source": []
  }
 ],
 "metadata": {
  "kernelspec": {
   "display_name": "Python 3",
   "language": "python",
   "name": "python3"
  },
  "language_info": {
   "codemirror_mode": {
    "name": "ipython",
    "version": 3
   },
   "file_extension": ".py",
   "mimetype": "text/x-python",
   "name": "python",
   "nbconvert_exporter": "python",
   "pygments_lexer": "ipython3",
   "version": "3.6.13"
  }
 },
 "nbformat": 4,
 "nbformat_minor": 5
}
